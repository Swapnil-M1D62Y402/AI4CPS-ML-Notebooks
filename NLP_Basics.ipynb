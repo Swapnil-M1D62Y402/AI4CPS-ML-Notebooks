{
  "nbformat": 4,
  "nbformat_minor": 0,
  "metadata": {
    "colab": {
      "provenance": [],
      "authorship_tag": "ABX9TyMP5cmh0T3YDYg5Qj8s14S2",
      "include_colab_link": true
    },
    "kernelspec": {
      "name": "python3",
      "display_name": "Python 3"
    },
    "language_info": {
      "name": "python"
    }
  },
  "cells": [
    {
      "cell_type": "markdown",
      "metadata": {
        "id": "view-in-github",
        "colab_type": "text"
      },
      "source": [
        "<a href=\"https://colab.research.google.com/github/Swapnil-M1D62Y402/AI4CPS-ML-Notebooks/blob/main/NLP_Basics.ipynb\" target=\"_parent\"><img src=\"https://colab.research.google.com/assets/colab-badge.svg\" alt=\"Open In Colab\"/></a>"
      ]
    },
    {
      "cell_type": "markdown",
      "source": [
        "# Intro to NLP - Natural Language Processing"
      ],
      "metadata": {
        "id": "pQgTfJxHYMXm"
      }
    },
    {
      "cell_type": "markdown",
      "source": [
        " A group of texts is called a corpus. NLTK provides several corpora covering everything from novels hosted by Project Gutenberg to inaugural speeches by presidents of the United States.\n",
        "\n",
        "In order to analyze texts in NLTK, we first need to import them. This requires nltk.download(\"book\"),"
      ],
      "metadata": {
        "id": "MTIns0a0YLht"
      }
    },
    {
      "cell_type": "markdown",
      "source": [
        "Natural Language Processing(NLP) - interdisciplinary field merging computer science, linguistics, and machine learning. Its main objective is to allow computers to comprehend and handle human language naturally and effectively. NLP tasks are generally divided into two key categories:\n",
        "\n",
        "1. Natural Language Understanding(NLU) - This focuses on interpreting and understanding human language, including tasks like speech recognition, text classification, sentiment analysis, and extracting information from text.\n",
        "\n",
        "2. Natural Language Generation(NLG) -  This focuses on producing human-readable text from structured data, involving tasks like text summarization, dialogue generation, and language translation.\n",
        "\n",
        "-----------\n",
        "\n",
        "Important NLP Libraries in Python\n",
        "\n",
        "1. **NLTK** - NLTK is a highly versatile and widely used Python library for NLP tasks. It offers a comprehensive set of tools and resources for text processing, including functionalities like tokenization, stemming, lemmatization, part-of-speech tagging, and more, making it a go-to library for NLP practitioners.\n",
        "\n",
        "2. **spacy** - spaCy is a high-performance library designed for advanced NLP tasks, offering powerful models for tokenization, part-of-speech tagging, named entity recognition, dependency parsing, and more. It is well-regarded for its speed and ability to be easily integrated into production environments.\n",
        "\n",
        "3. TextBlob - TextBlob is a user-friendly library built on top of NLTK and Pattern, designed to streamline common NLP tasks such as part-of-speech tagging, noun phrase extraction, sentiment analysis, and more.\n",
        "\n",
        "4. Gensim - Gensim is a powerful library designed for topic modeling, offering optimized algorithms like Latent Dirichlet Allocation (LDA), Word2Vec, and Doc2Vec. It excels in tasks such as topic discovery, text similarity analysis, and generating word embeddings for better text representation.\n"
      ],
      "metadata": {
        "id": "AId0FbBFkiiJ"
      }
    },
    {
      "cell_type": "code",
      "execution_count": null,
      "metadata": {
        "colab": {
          "base_uri": "https://localhost:8080/"
        },
        "id": "Uj5CEFZDXOD0",
        "outputId": "b720668e-d51c-4b29-f138-2d4f1b4723a6"
      },
      "outputs": [
        {
          "output_type": "stream",
          "name": "stderr",
          "text": [
            "[nltk_data] Downloading collection 'book'\n",
            "[nltk_data]    | \n",
            "[nltk_data]    | Downloading package abc to /root/nltk_data...\n",
            "[nltk_data]    |   Unzipping corpora/abc.zip.\n",
            "[nltk_data]    | Downloading package brown to /root/nltk_data...\n",
            "[nltk_data]    |   Unzipping corpora/brown.zip.\n",
            "[nltk_data]    | Downloading package chat80 to /root/nltk_data...\n",
            "[nltk_data]    |   Unzipping corpora/chat80.zip.\n",
            "[nltk_data]    | Downloading package cmudict to /root/nltk_data...\n",
            "[nltk_data]    |   Unzipping corpora/cmudict.zip.\n",
            "[nltk_data]    | Downloading package conll2000 to /root/nltk_data...\n",
            "[nltk_data]    |   Unzipping corpora/conll2000.zip.\n",
            "[nltk_data]    | Downloading package conll2002 to /root/nltk_data...\n",
            "[nltk_data]    |   Unzipping corpora/conll2002.zip.\n",
            "[nltk_data]    | Downloading package dependency_treebank to\n",
            "[nltk_data]    |     /root/nltk_data...\n",
            "[nltk_data]    |   Unzipping corpora/dependency_treebank.zip.\n",
            "[nltk_data]    | Downloading package genesis to /root/nltk_data...\n",
            "[nltk_data]    |   Unzipping corpora/genesis.zip.\n",
            "[nltk_data]    | Downloading package gutenberg to /root/nltk_data...\n",
            "[nltk_data]    |   Unzipping corpora/gutenberg.zip.\n",
            "[nltk_data]    | Downloading package ieer to /root/nltk_data...\n",
            "[nltk_data]    |   Unzipping corpora/ieer.zip.\n",
            "[nltk_data]    | Downloading package inaugural to /root/nltk_data...\n",
            "[nltk_data]    |   Unzipping corpora/inaugural.zip.\n",
            "[nltk_data]    | Downloading package movie_reviews to\n",
            "[nltk_data]    |     /root/nltk_data...\n",
            "[nltk_data]    |   Unzipping corpora/movie_reviews.zip.\n",
            "[nltk_data]    | Downloading package nps_chat to /root/nltk_data...\n",
            "[nltk_data]    |   Unzipping corpora/nps_chat.zip.\n",
            "[nltk_data]    | Downloading package names to /root/nltk_data...\n",
            "[nltk_data]    |   Unzipping corpora/names.zip.\n",
            "[nltk_data]    | Downloading package ppattach to /root/nltk_data...\n",
            "[nltk_data]    |   Unzipping corpora/ppattach.zip.\n",
            "[nltk_data]    | Downloading package reuters to /root/nltk_data...\n",
            "[nltk_data]    | Downloading package senseval to /root/nltk_data...\n",
            "[nltk_data]    |   Unzipping corpora/senseval.zip.\n",
            "[nltk_data]    | Downloading package state_union to /root/nltk_data...\n",
            "[nltk_data]    |   Unzipping corpora/state_union.zip.\n",
            "[nltk_data]    | Downloading package stopwords to /root/nltk_data...\n",
            "[nltk_data]    |   Unzipping corpora/stopwords.zip.\n",
            "[nltk_data]    | Downloading package swadesh to /root/nltk_data...\n",
            "[nltk_data]    |   Unzipping corpora/swadesh.zip.\n",
            "[nltk_data]    | Downloading package timit to /root/nltk_data...\n",
            "[nltk_data]    |   Unzipping corpora/timit.zip.\n",
            "[nltk_data]    | Downloading package treebank to /root/nltk_data...\n",
            "[nltk_data]    |   Unzipping corpora/treebank.zip.\n",
            "[nltk_data]    | Downloading package toolbox to /root/nltk_data...\n",
            "[nltk_data]    |   Unzipping corpora/toolbox.zip.\n",
            "[nltk_data]    | Downloading package udhr to /root/nltk_data...\n",
            "[nltk_data]    |   Unzipping corpora/udhr.zip.\n",
            "[nltk_data]    | Downloading package udhr2 to /root/nltk_data...\n",
            "[nltk_data]    |   Unzipping corpora/udhr2.zip.\n",
            "[nltk_data]    | Downloading package unicode_samples to\n",
            "[nltk_data]    |     /root/nltk_data...\n",
            "[nltk_data]    |   Unzipping corpora/unicode_samples.zip.\n",
            "[nltk_data]    | Downloading package webtext to /root/nltk_data...\n",
            "[nltk_data]    |   Unzipping corpora/webtext.zip.\n",
            "[nltk_data]    | Downloading package wordnet to /root/nltk_data...\n",
            "[nltk_data]    | Downloading package wordnet_ic to /root/nltk_data...\n",
            "[nltk_data]    |   Unzipping corpora/wordnet_ic.zip.\n",
            "[nltk_data]    | Downloading package words to /root/nltk_data...\n",
            "[nltk_data]    |   Unzipping corpora/words.zip.\n",
            "[nltk_data]    | Downloading package maxent_treebank_pos_tagger to\n",
            "[nltk_data]    |     /root/nltk_data...\n",
            "[nltk_data]    |   Unzipping taggers/maxent_treebank_pos_tagger.zip.\n",
            "[nltk_data]    | Downloading package maxent_ne_chunker to\n",
            "[nltk_data]    |     /root/nltk_data...\n",
            "[nltk_data]    |   Unzipping chunkers/maxent_ne_chunker.zip.\n",
            "[nltk_data]    | Downloading package universal_tagset to\n",
            "[nltk_data]    |     /root/nltk_data...\n",
            "[nltk_data]    |   Unzipping taggers/universal_tagset.zip.\n",
            "[nltk_data]    | Downloading package punkt to /root/nltk_data...\n",
            "[nltk_data]    |   Unzipping tokenizers/punkt.zip.\n",
            "[nltk_data]    | Downloading package book_grammars to\n",
            "[nltk_data]    |     /root/nltk_data...\n",
            "[nltk_data]    |   Unzipping grammars/book_grammars.zip.\n",
            "[nltk_data]    | Downloading package city_database to\n",
            "[nltk_data]    |     /root/nltk_data...\n",
            "[nltk_data]    |   Unzipping corpora/city_database.zip.\n",
            "[nltk_data]    | Downloading package tagsets to /root/nltk_data...\n",
            "[nltk_data]    |   Unzipping help/tagsets.zip.\n",
            "[nltk_data]    | Downloading package panlex_swadesh to\n",
            "[nltk_data]    |     /root/nltk_data...\n",
            "[nltk_data]    | Downloading package averaged_perceptron_tagger to\n",
            "[nltk_data]    |     /root/nltk_data...\n",
            "[nltk_data]    |   Unzipping taggers/averaged_perceptron_tagger.zip.\n",
            "[nltk_data]    | \n",
            "[nltk_data]  Done downloading collection book\n"
          ]
        },
        {
          "output_type": "execute_result",
          "data": {
            "text/plain": [
              "True"
            ]
          },
          "metadata": {},
          "execution_count": 1
        }
      ],
      "source": [
        "import nltk\n",
        "nltk.download(\"book\")"
      ]
    },
    {
      "cell_type": "code",
      "source": [
        "from nltk.book import *"
      ],
      "metadata": {
        "colab": {
          "base_uri": "https://localhost:8080/"
        },
        "id": "yGPUkVReYRci",
        "outputId": "bf1705e6-d1bb-42b9-bffa-41912b2f8f6b"
      },
      "execution_count": null,
      "outputs": [
        {
          "output_type": "stream",
          "name": "stdout",
          "text": [
            "*** Introductory Examples for the NLTK Book ***\n",
            "Loading text1, ..., text9 and sent1, ..., sent9\n",
            "Type the name of the text or sentence to view it.\n",
            "Type: 'texts()' or 'sents()' to list the materials.\n",
            "text1: Moby Dick by Herman Melville 1851\n",
            "text2: Sense and Sensibility by Jane Austen 1811\n",
            "text3: The Book of Genesis\n",
            "text4: Inaugural Address Corpus\n",
            "text5: Chat Corpus\n",
            "text6: Monty Python and the Holy Grail\n",
            "text7: Wall Street Journal\n",
            "text8: Personals Corpus\n",
            "text9: The Man Who Was Thursday by G . K . Chesterton 1908\n"
          ]
        }
      ]
    },
    {
      "cell_type": "markdown",
      "source": [
        "**Concordance** - when we use a concordance, we can see each time a word is used along with its immediate context."
      ],
      "metadata": {
        "id": "EdbjimbzYds0"
      }
    },
    {
      "cell_type": "markdown",
      "source": [
        "The personals corpus is called `text8`, so we are going to call `.concordance()` on it with the parameter `\"man\"`."
      ],
      "metadata": {
        "id": "mLP04bZNYvG9"
      }
    },
    {
      "cell_type": "code",
      "source": [
        "text8.concordance(\"man\")"
      ],
      "metadata": {
        "colab": {
          "base_uri": "https://localhost:8080/"
        },
        "id": "f4grRsMQYlsj",
        "outputId": "5b1866d0-f661-47e4-b3d3-4ad2e740bb7e"
      },
      "execution_count": null,
      "outputs": [
        {
          "output_type": "stream",
          "name": "stdout",
          "text": [
            "Displaying 14 of 14 matches:\n",
            " to hearing from you all . ABLE young man seeks , sexy older women . Phone for \n",
            "ble relationship . GENUINE ATTRACTIVE MAN 40 y . o ., no ties , secure , 5 ft .\n",
            "ship , and quality times . VIETNAMESE MAN Single , never married , financially \n",
            "ip . WELL DRESSED emotionally healthy man 37 like to meet full figured woman fo\n",
            " nth subs LIKE TO BE MISTRESS of YOUR MAN like to be treated well . Bold DTE no\n",
            "eeks lady in similar position MARRIED MAN 50 , attrac . fit , seeks lady 40 - 5\n",
            "eks nice girl 25 - 30 serious rship . Man 46 attractive fit , assertive , and k\n",
            " 40 - 50 sought by Aussie mid 40s b / man f / ship r / ship LOVE to meet widowe\n",
            "discreet times . Sth E Subs . MARRIED MAN 42yo 6ft , fit , seeks Lady for discr\n",
            "woman , seeks professional , employed man , with interests in theatre , dining \n",
            " tall and of large build seeks a good man . I am a nonsmoker , social drinker ,\n",
            "lead to relationship . SEEKING HONEST MAN I am 41 y . o ., 5 ft . 4 , med . bui\n",
            " quiet times . Seeks 35 - 45 , honest man with good SOH & similar interests , f\n",
            " genuine , caring , honest and normal man for fship , poss rship . S / S , S / \n"
          ]
        }
      ]
    },
    {
      "cell_type": "code",
      "source": [
        "text8.concordance(\"female\")"
      ],
      "metadata": {
        "colab": {
          "base_uri": "https://localhost:8080/"
        },
        "id": "wf7D_5-zY3HT",
        "outputId": "82f8a11e-bc0d-4a26-d275-6b9667efce47"
      },
      "execution_count": null,
      "outputs": [
        {
          "output_type": "stream",
          "name": "stdout",
          "text": [
            "Displaying 15 of 15 matches:\n",
            "ingwood area , is seeking a genuine female of similar age or older , in same a\n",
            " , dinner parties . Seeks out there female for friendship and fun . AUSSIE 39 \n",
            "on smoker , light drinker . Seeking female friend , 40s , attractive 5 ft 5 +.\n",
            "at home . Seeking slim , attractive female , 20 - 30 with similar interests fo\n",
            "beach and the environment . Seeking female with similar interests to share con\n",
            "with varied interests seeks genuine female for friendship , relationship , and\n",
            ". 31 YO GUY Slim , Seeks 25 - 35 yo female for friendship / relationship , kid\n",
            "tgoing , genuine , friendly seeking female bet / w 30 - 35 yo , easygoing , fr\n",
            "NG LOVING & generous , seeks petite Female up to 38 . CARING well dressed rom \n",
            "6yo MARRIED male seeks attr married female for discreet encounter . GENT , 30 \n",
            " Be mine . MALE 26 tall n / s seeks female early 30s for fun times South East \n",
            "like to meet attractive fit stylish female . For dinner and wine . Northcote M\n",
            "er . Knox area SINGLE MALE 45 seeks female 40 - 50 for 4WD weekends away SINGL\n",
            "ne , caring 52yo Male seeking DTE , female 50 + poss . R / ship . HARLEY RIDER\n",
            "d indoor bowls . AFFECTIONATE loyal female , seeks tall male . 35 - 43 for gen\n"
          ]
        }
      ]
    },
    {
      "cell_type": "code",
      "source": [
        "text9.concordance('man')"
      ],
      "metadata": {
        "colab": {
          "base_uri": "https://localhost:8080/"
        },
        "id": "8DhyCaIMZGKB",
        "outputId": "6487452b-777e-402e-aa15-0b9a352b5ce4"
      },
      "execution_count": null,
      "outputs": [
        {
          "output_type": "stream",
          "name": "stdout",
          "text": [
            "Displaying 25 of 276 matches:\n",
            "[ The Man Who Was Thursday by G . K . Chesterto\n",
            "as nevertheless artistic . That young man with the long , auburn hair and the i\n",
            "r and the impudent face -- that young man was not really a poet ; but surely he\n",
            " a frail but finished work of art . A man who stepped into its social atmospher\n",
            "these new women would always pay to a man the extravagant compliment which no o\n",
            "poet , was really ( in some sense ) a man worth listening to , even if one only\n",
            "ht you appeared in this garden .\" The man with the meek blue eyes and the pale \n",
            "ere . An anarchist is an artist . The man who throws a bomb is an artist , beca\n",
            "o miss it . We feel it is epical when man with one wild arrow strikes a distant\n",
            "ant bird . Is it not also epical when man with one wild engine strikes a distan\n",
            " , to Baker Street or to Bagdad . But man is a magician , and his whole magic i\n",
            "ron , who commemorates the defeats of man ; give me Bradshaw , who commemorates\n",
            "ast batteries of besiegers , and that man has won a battle against chaos . You \n",
            "u don ' t mean it . Now , sometimes a man like your brother really finds a thin\n",
            "t his opinions . For he was a sincere man , and in spite of his superficial air\n",
            "ble one . And it is always the humble man who talks too much ; the proud man wa\n",
            "le man who talks too much ; the proud man watches himself too closely . He defe\n",
            "ble . You did something to me that no man born of woman has ever succeeded in d\n",
            ", but I should think very little of a man who didn ' t keep something in the ba\n",
            " his indescribable astonishment , the man only said \" Certainly , sir !\" and we\n",
            "ch Revolution talked of the Rights of Man ! We hate Rights as we hate Wrongs . \n",
            " out ' Blood !' abstractedly , like a man calling for wine . I often said , ' L\n",
            "archist Council , who is the greatest man in Europe .\" \" What is his name ?\" as\n",
            "g down the corridor . CHAPTER III THE MAN WHO WAS THURSDAY BEFORE one of the fr\n",
            "lite hand . \" Don ' t be such a silly man ,\" he said , with the effeminate dign\n"
          ]
        }
      ]
    },
    {
      "cell_type": "markdown",
      "source": [
        "**DIspersion Plot** - We can use a dispersion plot to see hwo much a particular word appears and where it appears."
      ],
      "metadata": {
        "id": "0iS7dtaQZSqk"
      }
    },
    {
      "cell_type": "code",
      "source": [
        "text8.dispersion_plot(\n",
        "    [\"woman\", \"lady\", \"girl\", \"man\", \"gentleman\", \"boy\", \"guy\"]\n",
        ")"
      ],
      "metadata": {
        "colab": {
          "base_uri": "https://localhost:8080/",
          "height": 472
        },
        "id": "jEU5sNlhZaa5",
        "outputId": "d6d8c9b3-49b9-4cf5-a815-0ab0a1b79855"
      },
      "execution_count": null,
      "outputs": [
        {
          "output_type": "display_data",
          "data": {
            "text/plain": [
              "<Figure size 640x480 with 1 Axes>"
            ],
            "image/png": "[encoded data removed]"
          },
          "metadata": {}
        }
      ]
    },
    {
      "cell_type": "markdown",
      "source": [
        "Each short blue line represents an instance of the word. Each horizontal row of blue lines rerpesents a corpus as a whole.\n",
        "\n",
        "1. \"woman\" was used more than \"lady\" or \"girl\"\n",
        "2. \"boy\" was used more than \"man\", \"gentleman\""
      ],
      "metadata": {
        "id": "Zh1CIavoZrsp"
      }
    },
    {
      "cell_type": "code",
      "source": [
        "from nltk import FreqDist\n",
        "freq_dist = FreqDist(text8)"
      ],
      "metadata": {
        "id": "dw8TF5HdZkFZ"
      },
      "execution_count": null,
      "outputs": []
    },
    {
      "cell_type": "code",
      "source": [
        "print(f\"Frequency Distribution: {freq_dist}\")"
      ],
      "metadata": {
        "colab": {
          "base_uri": "https://localhost:8080/"
        },
        "id": "1vaJTErtfcst",
        "outputId": "ca8669fc-7222-4645-cc9e-d840898ba8af"
      },
      "execution_count": null,
      "outputs": [
        {
          "output_type": "stream",
          "name": "stdout",
          "text": [
            "Frequency Distribution: <FreqDist with 1108 samples and 4867 outcomes>\n"
          ]
        }
      ]
    },
    {
      "cell_type": "code",
      "source": [
        "freq_dist.most_common(20)"
      ],
      "metadata": {
        "colab": {
          "base_uri": "https://localhost:8080/"
        },
        "id": "UnuCp63KfmP1",
        "outputId": "27ab08c6-4493-4919-e4b0-2664520b9abd"
      },
      "execution_count": null,
      "outputs": [
        {
          "output_type": "execute_result",
          "data": {
            "text/plain": [
              "[(',', 539),\n",
              " ('.', 353),\n",
              " ('/', 110),\n",
              " ('for', 99),\n",
              " ('and', 74),\n",
              " ('to', 74),\n",
              " ('lady', 68),\n",
              " ('-', 66),\n",
              " ('seeks', 60),\n",
              " ('a', 52),\n",
              " ('with', 44),\n",
              " ('S', 36),\n",
              " ('ship', 33),\n",
              " ('&', 30),\n",
              " ('relationship', 29),\n",
              " ('fun', 28),\n",
              " ('in', 27),\n",
              " ('slim', 27),\n",
              " ('build', 27),\n",
              " ('o', 26)]"
            ]
          },
          "metadata": {},
          "execution_count": 11
        }
      ]
    },
    {
      "cell_type": "code",
      "source": [
        "freq_dist.max()"
      ],
      "metadata": {
        "colab": {
          "base_uri": "https://localhost:8080/",
          "height": 36
        },
        "id": "vYH1dI1DfqiF",
        "outputId": "39785976-0b81-4bc7-e0d3-8c2fb2942a27"
      },
      "execution_count": null,
      "outputs": [
        {
          "output_type": "execute_result",
          "data": {
            "text/plain": [
              "','"
            ],
            "application/vnd.google.colaboratory.intrinsic+json": {
              "type": "string"
            }
          },
          "metadata": {},
          "execution_count": 13
        }
      ]
    },
    {
      "cell_type": "markdown",
      "source": [
        "The reason why `stop words` are critical to many applications is that, if we `remove the words that are very commonly used in a given language, we can focus on the important words instead`.\n",
        "\n",
        "\n",
        ">For example, in the context of a `search engine`, if your search query is `“how to develop information retrieval applications”`, If the search engine tries to find web pages that contained the terms `“how”, “to” “develop”, “information”, ”retrieval”, “applications” the search engine is going to find a lot more pages that contain the terms “how”, “to” than page` that contain information about developing information retrieval applications because the terms “how” and “to” are so commonly used in the English language. `If we disregard these two terms, the search engine can actually focus on retrieving pages that contain the keywords: “develop” “information” “retrieval” “applications”` which would bring up pages that are actually of interest. This is just the basic intuition for using stop words."
      ],
      "metadata": {
        "id": "M6on_jaetIBa"
      }
    },
    {
      "cell_type": "code",
      "source": [
        "from nltk.corpus import stopwords\n",
        "stop_words = set(stopwords.words(\"english\"))"
      ],
      "metadata": {
        "id": "R2hO3PEgf2p6"
      },
      "execution_count": null,
      "outputs": []
    },
    {
      "cell_type": "code",
      "source": [
        "stop_words"
      ],
      "metadata": {
        "colab": {
          "base_uri": "https://localhost:8080/"
        },
        "id": "f6ZcsKSlgVGp",
        "outputId": "2aa188ae-60ea-4f2c-88aa-900ed92bb72f"
      },
      "execution_count": null,
      "outputs": [
        {
          "output_type": "execute_result",
          "data": {
            "text/plain": [
              "{'a',\n",
              " 'about',\n",
              " 'above',\n",
              " 'after',\n",
              " 'again',\n",
              " 'against',\n",
              " 'ain',\n",
              " 'all',\n",
              " 'am',\n",
              " 'an',\n",
              " 'and',\n",
              " 'any',\n",
              " 'are',\n",
              " 'aren',\n",
              " \"aren't\",\n",
              " 'as',\n",
              " 'at',\n",
              " 'be',\n",
              " 'because',\n",
              " 'been',\n",
              " 'before',\n",
              " 'being',\n",
              " 'below',\n",
              " 'between',\n",
              " 'both',\n",
              " 'but',\n",
              " 'by',\n",
              " 'can',\n",
              " 'couldn',\n",
              " \"couldn't\",\n",
              " 'd',\n",
              " 'did',\n",
              " 'didn',\n",
              " \"didn't\",\n",
              " 'do',\n",
              " 'does',\n",
              " 'doesn',\n",
              " \"doesn't\",\n",
              " 'doing',\n",
              " 'don',\n",
              " \"don't\",\n",
              " 'down',\n",
              " 'during',\n",
              " 'each',\n",
              " 'few',\n",
              " 'for',\n",
              " 'from',\n",
              " 'further',\n",
              " 'had',\n",
              " 'hadn',\n",
              " \"hadn't\",\n",
              " 'has',\n",
              " 'hasn',\n",
              " \"hasn't\",\n",
              " 'have',\n",
              " 'haven',\n",
              " \"haven't\",\n",
              " 'having',\n",
              " 'he',\n",
              " 'her',\n",
              " 'here',\n",
              " 'hers',\n",
              " 'herself',\n",
              " 'him',\n",
              " 'himself',\n",
              " 'his',\n",
              " 'how',\n",
              " 'i',\n",
              " 'if',\n",
              " 'in',\n",
              " 'into',\n",
              " 'is',\n",
              " 'isn',\n",
              " \"isn't\",\n",
              " 'it',\n",
              " \"it's\",\n",
              " 'its',\n",
              " 'itself',\n",
              " 'just',\n",
              " 'll',\n",
              " 'm',\n",
              " 'ma',\n",
              " 'me',\n",
              " 'mightn',\n",
              " \"mightn't\",\n",
              " 'more',\n",
              " 'most',\n",
              " 'mustn',\n",
              " \"mustn't\",\n",
              " 'my',\n",
              " 'myself',\n",
              " 'needn',\n",
              " \"needn't\",\n",
              " 'no',\n",
              " 'nor',\n",
              " 'not',\n",
              " 'now',\n",
              " 'o',\n",
              " 'of',\n",
              " 'off',\n",
              " 'on',\n",
              " 'once',\n",
              " 'only',\n",
              " 'or',\n",
              " 'other',\n",
              " 'our',\n",
              " 'ours',\n",
              " 'ourselves',\n",
              " 'out',\n",
              " 'over',\n",
              " 'own',\n",
              " 're',\n",
              " 's',\n",
              " 'same',\n",
              " 'shan',\n",
              " \"shan't\",\n",
              " 'she',\n",
              " \"she's\",\n",
              " 'should',\n",
              " \"should've\",\n",
              " 'shouldn',\n",
              " \"shouldn't\",\n",
              " 'so',\n",
              " 'some',\n",
              " 'such',\n",
              " 't',\n",
              " 'than',\n",
              " 'that',\n",
              " \"that'll\",\n",
              " 'the',\n",
              " 'their',\n",
              " 'theirs',\n",
              " 'them',\n",
              " 'themselves',\n",
              " 'then',\n",
              " 'there',\n",
              " 'these',\n",
              " 'they',\n",
              " 'this',\n",
              " 'those',\n",
              " 'through',\n",
              " 'to',\n",
              " 'too',\n",
              " 'under',\n",
              " 'until',\n",
              " 'up',\n",
              " 've',\n",
              " 'very',\n",
              " 'was',\n",
              " 'wasn',\n",
              " \"wasn't\",\n",
              " 'we',\n",
              " 'were',\n",
              " 'weren',\n",
              " \"weren't\",\n",
              " 'what',\n",
              " 'when',\n",
              " 'where',\n",
              " 'which',\n",
              " 'while',\n",
              " 'who',\n",
              " 'whom',\n",
              " 'why',\n",
              " 'will',\n",
              " 'with',\n",
              " 'won',\n",
              " \"won't\",\n",
              " 'wouldn',\n",
              " \"wouldn't\",\n",
              " 'y',\n",
              " 'you',\n",
              " \"you'd\",\n",
              " \"you'll\",\n",
              " \"you're\",\n",
              " \"you've\",\n",
              " 'your',\n",
              " 'yours',\n",
              " 'yourself',\n",
              " 'yourselves'}"
            ]
          },
          "metadata": {},
          "execution_count": 16
        }
      ]
    },
    {
      "cell_type": "markdown",
      "source": [
        "we will now include only the meaninful words in our data, by removing those words which are not in our stop words list"
      ],
      "metadata": {
        "id": "LT-YPKIxgZax"
      }
    },
    {
      "cell_type": "code",
      "source": [
        "meaningful_words = [\n",
        "    word for word in text8 if word.casefold() not in stop_words\n",
        "]"
      ],
      "metadata": {
        "id": "YWsAO0WsgXBn"
      },
      "execution_count": null,
      "outputs": []
    },
    {
      "cell_type": "code",
      "source": [
        "meaningful_words"
      ],
      "metadata": {
        "colab": {
          "base_uri": "https://localhost:8080/"
        },
        "id": "Dj1Sojnhgq32",
        "outputId": "83f3e641-45b5-4636-979e-ed00c73a8004"
      },
      "execution_count": null,
      "outputs": [
        {
          "output_type": "execute_result",
          "data": {
            "text/plain": [
              "['25',\n",
              " 'SEXY',\n",
              " 'MALE',\n",
              " ',',\n",
              " 'seeks',\n",
              " 'attrac',\n",
              " 'older',\n",
              " 'single',\n",
              " 'lady',\n",
              " ',',\n",
              " 'discreet',\n",
              " 'encounters',\n",
              " '.',\n",
              " '35YO',\n",
              " 'Security',\n",
              " 'Guard',\n",
              " ',',\n",
              " 'seeking',\n",
              " 'lady',\n",
              " 'uniform',\n",
              " 'fun',\n",
              " 'times',\n",
              " '.',\n",
              " '40',\n",
              " 'yo',\n",
              " 'SINGLE',\n",
              " 'DAD',\n",
              " ',',\n",
              " 'sincere',\n",
              " 'friendly',\n",
              " 'DTE',\n",
              " 'seeks',\n",
              " 'r',\n",
              " '/',\n",
              " 'ship',\n",
              " 'fem',\n",
              " 'age',\n",
              " 'open',\n",
              " '/',\n",
              " 'E',\n",
              " '44yo',\n",
              " 'tall',\n",
              " 'seeks',\n",
              " 'working',\n",
              " 'single',\n",
              " 'mum',\n",
              " 'lady',\n",
              " '45',\n",
              " 'fship',\n",
              " 'rship',\n",
              " '.',\n",
              " 'Nat',\n",
              " 'Open',\n",
              " '6',\n",
              " '.',\n",
              " '2',\n",
              " '35',\n",
              " 'yr',\n",
              " 'old',\n",
              " 'OUTGOING',\n",
              " 'seeks',\n",
              " 'fem',\n",
              " '28',\n",
              " '-',\n",
              " '35',\n",
              " '/',\n",
              " 'door',\n",
              " 'sports',\n",
              " '-',\n",
              " 'w',\n",
              " '/',\n",
              " 'e',\n",
              " 'away',\n",
              " 'professional',\n",
              " 'business',\n",
              " 'male',\n",
              " ',',\n",
              " 'late',\n",
              " '40s',\n",
              " ',',\n",
              " '6',\n",
              " 'feet',\n",
              " 'tall',\n",
              " ',',\n",
              " 'slim',\n",
              " 'build',\n",
              " ',',\n",
              " 'well',\n",
              " 'groomed',\n",
              " ',',\n",
              " 'great',\n",
              " 'personality',\n",
              " ',',\n",
              " 'home',\n",
              " 'owner',\n",
              " ',',\n",
              " 'interests',\n",
              " 'include',\n",
              " 'arts',\n",
              " 'travel',\n",
              " 'things',\n",
              " 'good',\n",
              " ',',\n",
              " 'Ringwood',\n",
              " 'area',\n",
              " ',',\n",
              " 'seeking',\n",
              " 'genuine',\n",
              " 'female',\n",
              " 'similar',\n",
              " 'age',\n",
              " 'older',\n",
              " ',',\n",
              " 'area',\n",
              " 'surrounds',\n",
              " ',',\n",
              " 'meaningful',\n",
              " 'long',\n",
              " 'term',\n",
              " 'rship',\n",
              " '.',\n",
              " 'Looking',\n",
              " 'forward',\n",
              " 'hearing',\n",
              " '.',\n",
              " 'ABLE',\n",
              " 'young',\n",
              " 'man',\n",
              " 'seeks',\n",
              " ',',\n",
              " 'sexy',\n",
              " 'older',\n",
              " 'women',\n",
              " '.',\n",
              " 'Phone',\n",
              " 'fun',\n",
              " 'ready',\n",
              " 'play',\n",
              " 'AFFECTIONATE',\n",
              " 'LADY',\n",
              " 'Sought',\n",
              " 'generous',\n",
              " 'guy',\n",
              " ',',\n",
              " '40s',\n",
              " ',',\n",
              " 'mutual',\n",
              " 'fulfillment',\n",
              " 'ALONE',\n",
              " 'lost',\n",
              " 'r',\n",
              " '/',\n",
              " 'ship',\n",
              " ',',\n",
              " 'hope',\n",
              " 'sight',\n",
              " '?',\n",
              " 'Maybe',\n",
              " 'could',\n",
              " 'explore',\n",
              " 'new',\n",
              " 'beginnings',\n",
              " 'together',\n",
              " '?',\n",
              " 'Im',\n",
              " '45',\n",
              " 'Slim',\n",
              " '/',\n",
              " 'Med',\n",
              " 'build',\n",
              " ',',\n",
              " 'GSOH',\n",
              " ',',\n",
              " 'high',\n",
              " 'needs',\n",
              " 'looking',\n",
              " 'someone',\n",
              " 'similar',\n",
              " '.',\n",
              " 'WONT',\n",
              " 'disappointed',\n",
              " '.',\n",
              " 'AMIABLE',\n",
              " '43',\n",
              " '.',\n",
              " '.',\n",
              " 'gentleman',\n",
              " 'European',\n",
              " 'background',\n",
              " ',',\n",
              " '170',\n",
              " 'cm',\n",
              " ',',\n",
              " 'medium',\n",
              " 'build',\n",
              " ',',\n",
              " 'employed',\n",
              " ',',\n",
              " 'never',\n",
              " 'married',\n",
              " ',',\n",
              " 'children',\n",
              " '.',\n",
              " 'Enjoys',\n",
              " 'sports',\n",
              " ',',\n",
              " 'music',\n",
              " ',',\n",
              " 'cafes',\n",
              " ',',\n",
              " 'beach',\n",
              " '&',\n",
              " 'c',\n",
              " '.',\n",
              " 'Seeks',\n",
              " 'honest',\n",
              " ',',\n",
              " 'attractive',\n",
              " 'lady',\n",
              " 'European',\n",
              " 'background',\n",
              " ',',\n",
              " 'without',\n",
              " 'children',\n",
              " ',',\n",
              " 'would',\n",
              " 'like',\n",
              " 'get',\n",
              " 'married',\n",
              " 'chil',\n",
              " 'dren',\n",
              " 'future',\n",
              " '.',\n",
              " '29',\n",
              " '-',\n",
              " '39',\n",
              " '.',\n",
              " '.',\n",
              " 'Prefer',\n",
              " 'non',\n",
              " '-',\n",
              " 'smoker',\n",
              " 'living',\n",
              " 'Adelaide',\n",
              " '.',\n",
              " 'COPPER',\n",
              " 'REDHEAD',\n",
              " '?',\n",
              " '36',\n",
              " '.',\n",
              " '.',\n",
              " 'looking',\n",
              " 'companionship',\n",
              " '/',\n",
              " 'friendship',\n",
              " '.',\n",
              " 'enjoy',\n",
              " 'AFL',\n",
              " ',',\n",
              " 'animals',\n",
              " 'dining',\n",
              " '.',\n",
              " 'ATTRACTIVE',\n",
              " '43',\n",
              " '.',\n",
              " '.',\n",
              " '61',\n",
              " ',',\n",
              " 'medium',\n",
              " 'build',\n",
              " ',',\n",
              " 'financially',\n",
              " 'secure',\n",
              " ',',\n",
              " 'children',\n",
              " ',',\n",
              " 'seeks',\n",
              " 'attractive',\n",
              " 'lady',\n",
              " '40',\n",
              " '.',\n",
              " '.',\n",
              " 'children',\n",
              " '.',\n",
              " 'enjoy',\n",
              " 'beach',\n",
              " ',',\n",
              " 'sports',\n",
              " 'music',\n",
              " '.',\n",
              " 'View',\n",
              " 'permanent',\n",
              " 'relationship',\n",
              " '.',\n",
              " 'ATTRACTIVE',\n",
              " 'GUY',\n",
              " 'Late',\n",
              " '30s',\n",
              " ',',\n",
              " '57',\n",
              " ',',\n",
              " 'Taurus',\n",
              " '.',\n",
              " 'fitness',\n",
              " ',',\n",
              " 'cafes',\n",
              " ',',\n",
              " 'movies',\n",
              " ',',\n",
              " 'dinner',\n",
              " 'parties',\n",
              " '.',\n",
              " 'Seeks',\n",
              " 'female',\n",
              " 'friendship',\n",
              " 'fun',\n",
              " '.',\n",
              " 'AUSSIE',\n",
              " '39',\n",
              " 'Solid',\n",
              " 'build',\n",
              " ',',\n",
              " 'likes',\n",
              " 'music',\n",
              " ',',\n",
              " 'movies',\n",
              " ',',\n",
              " 'walks',\n",
              " 'beach',\n",
              " ',',\n",
              " 'single',\n",
              " ',',\n",
              " 'would',\n",
              " 'like',\n",
              " 'meet',\n",
              " 'lady',\n",
              " 'friendship',\n",
              " 'view',\n",
              " 'relationship',\n",
              " '.',\n",
              " 'AUSTRALIAN',\n",
              " 'FATHER',\n",
              " '58',\n",
              " '11',\n",
              " '.',\n",
              " '.',\n",
              " 'son',\n",
              " ',',\n",
              " 'living',\n",
              " '.',\n",
              " 'Seeks',\n",
              " 'nice',\n",
              " ',',\n",
              " 'caring',\n",
              " 'lady',\n",
              " 'likes',\n",
              " 'children',\n",
              " 'permanent',\n",
              " 'lationship',\n",
              " 'coastal',\n",
              " 'town',\n",
              " 'Eyre',\n",
              " 'Peninsula',\n",
              " '.',\n",
              " 'Age',\n",
              " 'open',\n",
              " '55',\n",
              " '.',\n",
              " 'AUSTRALIAN',\n",
              " ',',\n",
              " 'SLIM',\n",
              " ',',\n",
              " 'FUN',\n",
              " '5',\n",
              " 'ft',\n",
              " '.',\n",
              " '8',\n",
              " '.',\n",
              " 'Enjoy',\n",
              " 'BBQs',\n",
              " ',',\n",
              " 'sport',\n",
              " ',',\n",
              " 'fishing',\n",
              " ',',\n",
              " 'going',\n",
              " 'meal',\n",
              " '&',\n",
              " 'c',\n",
              " '.',\n",
              " 'Fun',\n",
              " '.',\n",
              " 'Looking',\n",
              " 'com',\n",
              " 'panion',\n",
              " ',',\n",
              " 'aged',\n",
              " '35',\n",
              " '-',\n",
              " '50',\n",
              " '.',\n",
              " 'Must',\n",
              " 'genuine',\n",
              " 'good',\n",
              " 'fun',\n",
              " '.',\n",
              " 'Possible',\n",
              " 'relationship',\n",
              " '.',\n",
              " 'BEAUTIFUL',\n",
              " ',',\n",
              " 'INTELLIGENT',\n",
              " 'CARING',\n",
              " ',',\n",
              " 'MUSICAL',\n",
              " 'Shy',\n",
              " ',',\n",
              " 'late',\n",
              " '20s',\n",
              " ',',\n",
              " 'size',\n",
              " '12',\n",
              " ',',\n",
              " 'long',\n",
              " 'blonde',\n",
              " 'hair',\n",
              " 'likes',\n",
              " 'drink',\n",
              " 'Guiness',\n",
              " '.',\n",
              " 'want',\n",
              " '.',\n",
              " 'BLONDE',\n",
              " 'HAIR',\n",
              " ',',\n",
              " 'BLUE',\n",
              " 'EYES',\n",
              " 'Medium',\n",
              " 'build',\n",
              " ',',\n",
              " 'Im',\n",
              " 'early',\n",
              " '30s',\n",
              " '.',\n",
              " 'honest',\n",
              " ',',\n",
              " 'caring',\n",
              " ',',\n",
              " 'likes',\n",
              " 'fishing',\n",
              " ',',\n",
              " 'animals',\n",
              " ',',\n",
              " 'golf',\n",
              " ',',\n",
              " 'bike',\n",
              " 'riding',\n",
              " ',',\n",
              " 'TV',\n",
              " 'DVDs',\n",
              " ',',\n",
              " 'quiet',\n",
              " 'nights',\n",
              " 'home',\n",
              " ',',\n",
              " 'kissing',\n",
              " 'cuddling',\n",
              " 'special',\n",
              " 'person',\n",
              " 'life',\n",
              " '.',\n",
              " 'Looking',\n",
              " 'caring',\n",
              " ',',\n",
              " 'honest',\n",
              " 'lady',\n",
              " 'friendship',\n",
              " 'relationship',\n",
              " '.',\n",
              " 'BUSINESSMAN',\n",
              " '60',\n",
              " \"''\",\n",
              " 'ish',\n",
              " 'Looking',\n",
              " 'lady',\n",
              " ',',\n",
              " 'non',\n",
              " '-',\n",
              " 'smoker',\n",
              " ',',\n",
              " '56',\n",
              " 'taller',\n",
              " 'business',\n",
              " 'outlook',\n",
              " ',',\n",
              " 'ties',\n",
              " ',',\n",
              " 'prepared',\n",
              " 'travel',\n",
              " 'enjoy',\n",
              " 'outdoor',\n",
              " 'sports',\n",
              " '(',\n",
              " 'cars',\n",
              " ',',\n",
              " 'boats',\n",
              " 'etc',\n",
              " '.),',\n",
              " 'wining',\n",
              " '/',\n",
              " 'dining',\n",
              " '.',\n",
              " 'Must',\n",
              " '.',\n",
              " '.',\n",
              " 'h',\n",
              " '.',\n",
              " 'modern',\n",
              " 'outlook',\n",
              " '.',\n",
              " 'CUDDLY',\n",
              " 'FULL',\n",
              " 'FIGURED',\n",
              " 'LADY',\n",
              " '50',\n",
              " 'plus',\n",
              " 'sought',\n",
              " 'Australian',\n",
              " 'gent',\n",
              " ',',\n",
              " 'early',\n",
              " '60s',\n",
              " ',',\n",
              " 'financially',\n",
              " 'secure',\n",
              " ',',\n",
              " 'non',\n",
              " '-',\n",
              " 'drinker',\n",
              " ',',\n",
              " 'non',\n",
              " 'smoker',\n",
              " ',',\n",
              " 'permanent',\n",
              " 'relationship',\n",
              " '.',\n",
              " 'FIT',\n",
              " 'ACTIVE',\n",
              " 'EASYGOING',\n",
              " '50',\n",
              " '.',\n",
              " '.',\n",
              " 'male',\n",
              " ',',\n",
              " '6',\n",
              " 'ft',\n",
              " '2',\n",
              " ',',\n",
              " 'med',\n",
              " '.',\n",
              " 'build',\n",
              " ',',\n",
              " 'fit',\n",
              " 'healthy',\n",
              " ',',\n",
              " 'fully',\n",
              " 'employed',\n",
              " 'ties',\n",
              " ',',\n",
              " 'non',\n",
              " 'smoker',\n",
              " ',',\n",
              " 'light',\n",
              " 'drinker',\n",
              " '.',\n",
              " 'Seeking',\n",
              " 'female',\n",
              " 'friend',\n",
              " ',',\n",
              " '40s',\n",
              " ',',\n",
              " 'attractive',\n",
              " '5',\n",
              " 'ft',\n",
              " '5',\n",
              " '+.',\n",
              " 'Med',\n",
              " '.',\n",
              " 'slim',\n",
              " 'build',\n",
              " '.',\n",
              " 'View',\n",
              " 'towards',\n",
              " 'permanent',\n",
              " 'relationship',\n",
              " '.',\n",
              " 'Give',\n",
              " 'call',\n",
              " 'lets',\n",
              " 'chat',\n",
              " '.',\n",
              " 'GENUINE',\n",
              " 'HONEST',\n",
              " 'Hi',\n",
              " 'Im',\n",
              " '44',\n",
              " 'good',\n",
              " 'sense',\n",
              " 'humour',\n",
              " ',',\n",
              " 'romantic',\n",
              " 'love',\n",
              " 'drives',\n",
              " ',',\n",
              " 'fishing',\n",
              " ',',\n",
              " 'camping',\n",
              " 'music',\n",
              " '.',\n",
              " 'Love',\n",
              " '2',\n",
              " 'kids',\n",
              " '.',\n",
              " 'looking',\n",
              " 'lady',\n",
              " 'similar',\n",
              " 'interests',\n",
              " ',',\n",
              " 'aged',\n",
              " '38',\n",
              " '-',\n",
              " '45',\n",
              " 'friendship',\n",
              " '/',\n",
              " 'possible',\n",
              " 'relationship',\n",
              " '.',\n",
              " 'GENUINE',\n",
              " 'ATTRACTIVE',\n",
              " 'MAN',\n",
              " '40',\n",
              " '.',\n",
              " '.,',\n",
              " 'ties',\n",
              " ',',\n",
              " 'secure',\n",
              " ',',\n",
              " '5',\n",
              " 'ft',\n",
              " '.',\n",
              " '9',\n",
              " ',',\n",
              " 'slim',\n",
              " 'build',\n",
              " '.',\n",
              " 'enjoy',\n",
              " 'outdoors',\n",
              " ',',\n",
              " 'gym',\n",
              " ',',\n",
              " 'beach',\n",
              " ',',\n",
              " 'country',\n",
              " 'drives',\n",
              " 'quiet',\n",
              " 'nights',\n",
              " 'home',\n",
              " '.',\n",
              " 'Seeking',\n",
              " 'honest',\n",
              " ',',\n",
              " 'caring',\n",
              " 'woman',\n",
              " ',',\n",
              " 'slim',\n",
              " 'med',\n",
              " '.',\n",
              " 'build',\n",
              " ',',\n",
              " 'enjoys',\n",
              " 'simple',\n",
              " 'things',\n",
              " 'life',\n",
              " '.',\n",
              " 'Age',\n",
              " 'open',\n",
              " '.',\n",
              " 'GOOD',\n",
              " 'LISTENER',\n",
              " 'Well',\n",
              " 'educated',\n",
              " ',',\n",
              " 'tall',\n",
              " ',',\n",
              " 'blue',\n",
              " 'eyes',\n",
              " ',',\n",
              " 'brown',\n",
              " 'hair',\n",
              " ',',\n",
              " 'Mid',\n",
              " '20s',\n",
              " ',',\n",
              " 'good',\n",
              " 'looking',\n",
              " ',',\n",
              " 'honest',\n",
              " 'n',\n",
              " '/',\n",
              " 'smoker',\n",
              " '.',\n",
              " 'Likes',\n",
              " 'movies',\n",
              " ',',\n",
              " 'drives',\n",
              " ',',\n",
              " 'nights',\n",
              " ',',\n",
              " 'looks',\n",
              " 'important',\n",
              " ',',\n",
              " 'distance',\n",
              " '/',\n",
              " 'speed',\n",
              " '.',\n",
              " 'Looking',\n",
              " 'someone',\n",
              " 'complete',\n",
              " 'social',\n",
              " 'circles',\n",
              " '.',\n",
              " 'Age',\n",
              " 'open',\n",
              " ',',\n",
              " 'friendship',\n",
              " '/',\n",
              " 'relationship',\n",
              " '.',\n",
              " 'GREEK',\n",
              " '/',\n",
              " 'AUST',\n",
              " '.',\n",
              " 'MALE',\n",
              " 'Early',\n",
              " '30s',\n",
              " ',',\n",
              " '57',\n",
              " ',',\n",
              " 'slim',\n",
              " 'build',\n",
              " ',',\n",
              " 'non',\n",
              " '-',\n",
              " 'smoker',\n",
              " ',',\n",
              " 'enjoys',\n",
              " 'dining',\n",
              " ',',\n",
              " 'movies',\n",
              " ',',\n",
              " 'bbqs',\n",
              " '.,',\n",
              " 'football',\n",
              " 'quiet',\n",
              " 'nights',\n",
              " 'home',\n",
              " '.',\n",
              " 'Seeking',\n",
              " 'slim',\n",
              " ',',\n",
              " 'attractive',\n",
              " 'female',\n",
              " ',',\n",
              " '20',\n",
              " '-',\n",
              " '30',\n",
              " 'similar',\n",
              " 'interests',\n",
              " 'friend',\n",
              " 'ship',\n",
              " '/',\n",
              " 'relationship',\n",
              " '.',\n",
              " 'HANDSOME',\n",
              " 'BUSINESSMAN',\n",
              " 'Tall',\n",
              " ',',\n",
              " 'slim',\n",
              " ',',\n",
              " 'independant',\n",
              " ',',\n",
              " 'standing',\n",
              " ',',\n",
              " 'mid',\n",
              " '50s',\n",
              " ',',\n",
              " 'looking',\n",
              " 'classy',\n",
              " 'lady',\n",
              " 'wants',\n",
              " 'retain',\n",
              " 'privacy',\n",
              " ',',\n",
              " 'still',\n",
              " 'retain',\n",
              " 'independance',\n",
              " 'looking',\n",
              " 'special',\n",
              " 'private',\n",
              " 'relationship',\n",
              " '.',\n",
              " 'PICK',\n",
              " '!',\n",
              " 'PICK',\n",
              " '!',\n",
              " 'attention',\n",
              " 'Im',\n",
              " '35',\n",
              " '.',\n",
              " '.',\n",
              " '59',\n",
              " 'attractive',\n",
              " 'guy',\n",
              " ',',\n",
              " 'non',\n",
              " '-',\n",
              " 'smoker',\n",
              " '/',\n",
              " 'social',\n",
              " 'drinker',\n",
              " ',',\n",
              " 'fit',\n",
              " 'active',\n",
              " ',',\n",
              " 'seeking',\n",
              " 'slim',\n",
              " '-',\n",
              " 'medium',\n",
              " 'lady',\n",
              " 'friendship',\n",
              " '/',\n",
              " 'relationship',\n",
              " '.',\n",
              " 'LIMESTONE',\n",
              " 'COAST',\n",
              " 'REGION',\n",
              " 'Attractive',\n",
              " ',',\n",
              " '6',\n",
              " 'fit',\n",
              " 'healthy',\n",
              " '46',\n",
              " '.',\n",
              " '.',\n",
              " 'country',\n",
              " 'guy',\n",
              " '.',\n",
              " 'Interests',\n",
              " 'incl',\n",
              " '.',\n",
              " 'self',\n",
              " 'sufficiencies',\n",
              " ',',\n",
              " 'permaculture',\n",
              " 'animals',\n",
              " 'travel',\n",
              " 'would',\n",
              " 'like',\n",
              " 'meet',\n",
              " 'attractive',\n",
              " ',',\n",
              " 'non',\n",
              " '-',\n",
              " 'smoking',\n",
              " 'fun',\n",
              " 'loving',\n",
              " 'lady',\n",
              " '35',\n",
              " '-',\n",
              " '45',\n",
              " 'friendship',\n",
              " 'view',\n",
              " 'permanent',\n",
              " 'relationship',\n",
              " 'MALE',\n",
              " 'LATE',\n",
              " '50',\n",
              " \"''\",\n",
              " 'AUST',\n",
              " 'Single',\n",
              " ',',\n",
              " 'tall',\n",
              " ',',\n",
              " 'prof',\n",
              " '.',\n",
              " 'Interests',\n",
              " ':',\n",
              " 'Music',\n",
              " ',',\n",
              " 'theatre',\n",
              " ',',\n",
              " 'dining',\n",
              " ',',\n",
              " 'art',\n",
              " ',',\n",
              " 'beach',\n",
              " 'environment',\n",
              " '.',\n",
              " 'Seeking',\n",
              " 'female',\n",
              " 'similar',\n",
              " 'interests',\n",
              " 'share',\n",
              " 'concerts',\n",
              " ',',\n",
              " 'dining',\n",
              " 'etc',\n",
              " '.',\n",
              " 'OUTGOING',\n",
              " 'GUY',\n",
              " 'Late',\n",
              " '30s',\n",
              " ',',\n",
              " 'seeks',\n",
              " 'lady',\n",
              " ',',\n",
              " '25',\n",
              " '-',\n",
              " '50',\n",
              " ',',\n",
              " 'size',\n",
              " 'unimportant',\n",
              " 'fun',\n",
              " 'good',\n",
              " 'times',\n",
              " '.',\n",
              " 'RETIRED',\n",
              " 'GENT',\n",
              " 'Like',\n",
              " 'meet',\n",
              " 'slim',\n",
              " 'lady',\n",
              " 'long',\n",
              " 'term',\n",
              " 'caravan',\n",
              " 'travel',\n",
              " ',',\n",
              " 'heading',\n",
              " 'Darwin',\n",
              " 'May',\n",
              " ',',\n",
              " 'share',\n",
              " 'driving',\n",
              " '.',\n",
              " 'Must',\n",
              " 'sense',\n",
              " 'humour',\n",
              " ',',\n",
              " 'non',\n",
              " '-',\n",
              " 'smoker',\n",
              " '.',\n",
              " 'Age',\n",
              " 'open',\n",
              " '.',\n",
              " 'ROMANTIC',\n",
              " '35',\n",
              " '.',\n",
              " '.',\n",
              " 'one',\n",
              " 'child',\n",
              " '.',\n",
              " 'Likes',\n",
              " 'dining',\n",
              " ',',\n",
              " 'movies',\n",
              " ',',\n",
              " 'beach',\n",
              " ',',\n",
              " 'country',\n",
              " 'drives',\n",
              " ',',\n",
              " 'quiet',\n",
              " 'nights',\n",
              " ',',\n",
              " 'seeks',\n",
              " 'employed',\n",
              " '28',\n",
              " '-',\n",
              " '40',\n",
              " 'year',\n",
              " 'old',\n",
              " 'lady',\n",
              " 'relationship',\n",
              " '.',\n",
              " 'Clare',\n",
              " 'Barossa',\n",
              " 'region',\n",
              " 'northern',\n",
              " 'suburbs',\n",
              " ...]"
            ]
          },
          "metadata": {},
          "execution_count": 20
        }
      ]
    },
    {
      "cell_type": "code",
      "source": [
        "frequency_distribution = FreqDist(meaningful_words)"
      ],
      "metadata": {
        "id": "O-Dm_p5Agszr"
      },
      "execution_count": null,
      "outputs": []
    },
    {
      "cell_type": "code",
      "source": [
        "frequency_distribution.most_common(20)"
      ],
      "metadata": {
        "colab": {
          "base_uri": "https://localhost:8080/"
        },
        "id": "Zxpq2Fjeg3iN",
        "outputId": "3463dd9a-f337-4190-9cde-5d91b01c8743"
      },
      "execution_count": null,
      "outputs": [
        {
          "output_type": "execute_result",
          "data": {
            "text/plain": [
              "[(',', 539),\n",
              " ('.', 353),\n",
              " ('/', 110),\n",
              " ('lady', 68),\n",
              " ('-', 66),\n",
              " ('seeks', 60),\n",
              " ('ship', 33),\n",
              " ('&', 30),\n",
              " ('relationship', 29),\n",
              " ('fun', 28),\n",
              " ('slim', 27),\n",
              " ('build', 27),\n",
              " ('smoker', 23),\n",
              " ('50', 23),\n",
              " ('non', 22),\n",
              " ('movies', 22),\n",
              " ('good', 21),\n",
              " ('honest', 20),\n",
              " ('dining', 19),\n",
              " ('rship', 18)]"
            ]
          },
          "metadata": {},
          "execution_count": 23
        }
      ]
    },
    {
      "cell_type": "code",
      "source": [
        "frequency_distribution.plot(20, cumulative=True)"
      ],
      "metadata": {
        "colab": {
          "base_uri": "https://localhost:8080/",
          "height": 535
        },
        "id": "-RE4CKnbg7y-",
        "outputId": "86f579e5-b748-4aeb-c942-bb3d2c41b87a"
      },
      "execution_count": null,
      "outputs": [
        {
          "output_type": "display_data",
          "data": {
            "text/plain": [
              "<Figure size 640x480 with 1 Axes>"
            ],
            "image/png": "[encoded data removed]"
          },
          "metadata": {}
        },
        {
          "output_type": "execute_result",
          "data": {
            "text/plain": [
              "<Axes: xlabel='Samples', ylabel='Cumulative Counts'>"
            ]
          },
          "metadata": {},
          "execution_count": 24
        }
      ]
    },
    {
      "cell_type": "markdown",
      "source": [
        "From the Frequency Chart we can see that the Personal Recruitment Ads, mentioned \"Honest\" and \"good\" a lot of times"
      ],
      "metadata": {
        "id": "_2nimAUij9us"
      }
    },
    {
      "cell_type": "markdown",
      "source": [
        "`Collocation - a sequence of words that shows up often`"
      ],
      "metadata": {
        "id": "x2kzi0QAkKl-"
      }
    },
    {
      "cell_type": "code",
      "source": [
        "text8.collocations()"
      ],
      "metadata": {
        "colab": {
          "base_uri": "https://localhost:8080/"
        },
        "id": "Aa5aqJyZkIxU",
        "outputId": "290c4c6a-94e3-4ed3-cd2e-cf14e540ea3d"
      },
      "execution_count": null,
      "outputs": [
        {
          "output_type": "stream",
          "name": "stdout",
          "text": [
            "would like; medium build; social drinker; quiet nights; non smoker;\n",
            "long term; age open; Would like; easy going; financially secure; fun\n",
            "times; similar interests; Age open; weekends away; poss rship; well\n",
            "presented; never married; single mum; permanent relationship; slim\n",
            "build\n"
          ]
        }
      ]
    },
    {
      "cell_type": "code",
      "source": [
        "from nltk.stem import WordNetLemmatizer\n",
        "lemmatizer = WordNetLemmatizer()\n",
        "lemmatized_words = [lemmatizer.lemmatize(word) for word in text8]"
      ],
      "metadata": {
        "id": "mvgHt0YOkRTb"
      },
      "execution_count": null,
      "outputs": []
    },
    {
      "cell_type": "code",
      "source": [
        "new_text = nltk.Text(lemmatized_words)"
      ],
      "metadata": {
        "id": "hxgRC8NXt24p"
      },
      "execution_count": null,
      "outputs": []
    },
    {
      "cell_type": "code",
      "source": [
        "new_text.collocations()"
      ],
      "metadata": {
        "id": "4_SLV2Ewt9qD",
        "outputId": "1c5ab18d-00d7-4396-a052-384b06d70336",
        "colab": {
          "base_uri": "https://localhost:8080/"
        }
      },
      "execution_count": null,
      "outputs": [
        {
          "output_type": "stream",
          "name": "stdout",
          "text": [
            "medium build; social drinker; non smoker; quiet night; long term;\n",
            "would like; age open; easy going; financially secure; Would like; fun\n",
            "time; similar interest; Age open; weekend away; well presented; never\n",
            "married; single mum; permanent relationship; year old; slim build\n"
          ]
        }
      ]
    },
    {
      "cell_type": "markdown",
      "source": [
        "## 1. Data Preprocessing and Text Cleaning\n"
      ],
      "metadata": {
        "id": "bSTM69bzo8lR"
      }
    },
    {
      "cell_type": "markdown",
      "source": [
        "Before applying NLP techniques, it is very important to process and clean the text data to achieve accurate outcomes.\n",
        "\n",
        "Steps to cleaning data\n",
        "\n",
        "1. Lowercasing\n",
        "2. Removing Punctuation\n",
        "3. Tokenization - split text to individual words\n",
        "4. Removing Stopwords - filter out commonly occuring words in English Language like \"is\" \"and\" \"the\" which is not essential in NLP tasks\n",
        "5. Lemmatization: Reduces words to their base forms such as \"running\" ---> \"run\"\n"
      ],
      "metadata": {
        "id": "spk-X3dopftr"
      }
    },
    {
      "cell_type": "code",
      "source": [
        "import re\n",
        "import nltk\n",
        "from nltk.corpus import stopwords\n",
        "from nltk.tokenize import word_tokenize\n",
        "from nltk.stem import WordNetLemmatizer\n",
        "\n",
        "nltk.download('punkt')\n",
        "nltk.download('stopwords')\n",
        "nltk.download('wordnet')"
      ],
      "metadata": {
        "colab": {
          "base_uri": "https://localhost:8080/"
        },
        "id": "JviEGSL7pBw2",
        "outputId": "5cf5185f-3cbf-494b-c783-0263ea5161ec"
      },
      "execution_count": null,
      "outputs": [
        {
          "output_type": "stream",
          "name": "stderr",
          "text": [
            "[nltk_data] Downloading package punkt to /root/nltk_data...\n",
            "[nltk_data]   Unzipping tokenizers/punkt.zip.\n",
            "[nltk_data] Downloading package stopwords to /root/nltk_data...\n",
            "[nltk_data]   Unzipping corpora/stopwords.zip.\n",
            "[nltk_data] Downloading package wordnet to /root/nltk_data...\n"
          ]
        },
        {
          "output_type": "execute_result",
          "data": {
            "text/plain": [
              "True"
            ]
          },
          "metadata": {},
          "execution_count": 3
        }
      ]
    },
    {
      "cell_type": "code",
      "source": [
        "text = \"This is an example sentence, to demonstrate text preprocessing! We'll clean it\""
      ],
      "metadata": {
        "id": "cD6fMfXmu4hX"
      },
      "execution_count": null,
      "outputs": []
    },
    {
      "cell_type": "code",
      "source": [
        "def preprocess_text(text):\n",
        "  #1. lowercase the text\n",
        "  text = text.lower();\n",
        "\n",
        "  #2. Remove punctuation and special characters\n",
        "  text = re.sub(r'[^\\w\\s]', '', text)\n",
        "\n",
        "  #3. Tokenize text\n",
        "  tokens = word_tokenize(text)\n",
        "\n",
        "  #4. Remove the stopwords\n",
        "  stop_words = set(stopwords.words('english'))\n",
        "  tokens = [word for word in tokens if word not in stop_words]\n",
        "\n",
        "  #5. Lemmatization\n",
        "  lemmatizer = WordNetLemmatizer()\n",
        "  tokens = [lemmatizer.lemmatize(word) for word in tokens]\n",
        "\n",
        "  return tokens"
      ],
      "metadata": {
        "id": "SjLOK1p6u8ye"
      },
      "execution_count": null,
      "outputs": []
    },
    {
      "cell_type": "code",
      "source": [
        "cleaned_text = preprocess_text(text)\n",
        "print(f\"Cleaned Tokens: {cleaned_text}\")"
      ],
      "metadata": {
        "colab": {
          "base_uri": "https://localhost:8080/"
        },
        "id": "CLDIsi6dxbuB",
        "outputId": "ff167983-8c64-4ed1-b8f5-1e4ee81e7595"
      },
      "execution_count": null,
      "outputs": [
        {
          "output_type": "stream",
          "name": "stdout",
          "text": [
            "Cleaned Tokens: ['example', 'sentence', 'demonstrate', 'text', 'preprocessing', 'well', 'clean']\n"
          ]
        }
      ]
    },
    {
      "cell_type": "code",
      "source": [
        "text"
      ],
      "metadata": {
        "colab": {
          "base_uri": "https://localhost:8080/",
          "height": 36
        },
        "id": "KVB3qx9Ux-MT",
        "outputId": "1cd1ba9f-7781-424a-f34f-f8a279285f49"
      },
      "execution_count": null,
      "outputs": [
        {
          "output_type": "execute_result",
          "data": {
            "text/plain": [
              "\"This is an example sentence, to demonstrate text preprocessing! We'll clean it\""
            ],
            "application/vnd.google.colaboratory.intrinsic+json": {
              "type": "string"
            }
          },
          "metadata": {},
          "execution_count": 9
        }
      ]
    },
    {
      "cell_type": "markdown",
      "source": [
        "## 2. Part-of-speech tagging and Named Entity Recognition\n",
        "\n",
        "spacy is used for Part-of-speech tagging and Named-Entity Recognition(NER)\n",
        "\n",
        "i) Load spaCy’s model: **en_core_web_sm** is a lightweight model that includes tokenization, POS tagging, and NER.\n",
        "\n",
        "\n",
        "ii) Each word in the text is tagged with its grammatical role, such as noun, verb, adjective, etc. Here’s a simple example:\n",
        "\n",
        "Sentence: \"The quick brown fox jumps over the lazy dog.\"\n",
        "\n",
        "**PoS Tags:**\n",
        "\n",
        "The - *Determiner (DT)*\n",
        "\n",
        "quick - *Adjective (JJ)*\n",
        "\n",
        "brown - *Adjective (JJ)*\n",
        "\n",
        "fox - *Noun (NN)*\n",
        "\n",
        "jumps -*Verb (VBZ)*\n",
        "\n",
        "over -*Preposition (IN)*\n",
        "\n",
        "the - *Determiner (DT)*\n",
        "\n",
        "lazy - *Adjective (JJ)*\n",
        "\n",
        "dog - *Noun (NN)*\n",
        "\n",
        "Pronoun:\n",
        "\n",
        "`PRP (Personal Pronoun)`: I, you, he, she, it, we, they\n",
        "\n",
        "`PRP$ (Possessive Pronoun)`: my, your, his, her, its, our, their Number:\n",
        "\n",
        "There isn’t a specific PoS tag for \"number\" itself, but numbers are often tagged as:\n",
        "\n",
        "`CD (Cardinal Number)`: one, two, three, 42\n",
        "\n",
        "Adverb:\n",
        "\n",
        "`RB (Adverb)`: quickly, very, well\n",
        "\n",
        "`RBR (Adverb`, Comparative): better, faster\n",
        "\n",
        "`RBS (Adverb, Superlative)`: best, fastest\n",
        "\n",
        "Punctuation:\n",
        "\n",
        ". (Period) or PUNC (General Punctuation)\n",
        "\n",
        ", (Comma)\n",
        "\n",
        "? (Question Mark)\n",
        "\n",
        "! (Exclamation Mark)\n",
        "\n",
        "Sign:\n",
        "\n",
        "SYM (Symbol): $, %, &, @\n",
        "\n",
        "\n",
        "\n",
        "\n"
      ],
      "metadata": {
        "id": "6x4DYe4QyHtI"
      }
    },
    {
      "cell_type": "markdown",
      "source": [
        "iii) Named Entity Recognition: The named entities in text are identified and classified.\n",
        "\n",
        "For example\n",
        "\n",
        "Sentence: `\"Barack Obama visited the Eiffel Tower in Paris last summer.\"`\n",
        "\n",
        "NER Tags:\n",
        "\n",
        "Barack Obama - `Person (PER)`\n",
        "\n",
        "Eiffel Tower - `Location (LOC)`\n",
        "\n",
        "Paris - `ocation (LOC)`\n",
        "\n",
        "In this example, NER helps identify and categorize specific names and locations in the text.\n"
      ],
      "metadata": {
        "id": "BXQT5fQu2XP3"
      }
    },
    {
      "cell_type": "code",
      "source": [
        "import spacy\n",
        "\n",
        "nlp = spacy.load(\"en_core_web_sm\")\n",
        "\n",
        "text = \"Apple is looking at buying U.K. startup for $1 billion. Steve Jobs founded Apple in 1976\"\n",
        "\n",
        "#Process text with spaCy\n",
        "doc = nlp(text)\n",
        "\n",
        "# PoS tagging\n",
        "print(\"Part-of-Speech Tagging: \")\n",
        "for token in doc:\n",
        "  print(f\"{token.text}: {token.pos_} ({token.tag_})\")\n",
        "\n",
        "print(\"\\nNamed Entity: \")\n",
        "for ent in doc.ents:\n",
        "  print(f\"{ent.text}: {ent.label_} ({spacy.explain(ent.label_)})\")\n",
        "\n"
      ],
      "metadata": {
        "colab": {
          "base_uri": "https://localhost:8080/"
        },
        "id": "ZvxqJRvox_-S",
        "outputId": "9321f97f-9170-4df7-f926-1b90d9b17b4c"
      },
      "execution_count": null,
      "outputs": [
        {
          "output_type": "stream",
          "name": "stdout",
          "text": [
            "Part-of-Speech Tagging: \n",
            "Apple: PROPN (NNP)\n",
            "is: AUX (VBZ)\n",
            "looking: VERB (VBG)\n",
            "at: ADP (IN)\n",
            "buying: VERB (VBG)\n",
            "U.K.: PROPN (NNP)\n",
            "startup: NOUN (NN)\n",
            "for: ADP (IN)\n",
            "$: SYM ($)\n",
            "1: NUM (CD)\n",
            "billion: NUM (CD)\n",
            ".: PUNCT (.)\n",
            "Steve: PROPN (NNP)\n",
            "Jobs: PROPN (NNP)\n",
            "founded: VERB (VBD)\n",
            "Apple: PROPN (NNP)\n",
            "in: ADP (IN)\n",
            "1976: NUM (CD)\n",
            "\n",
            "Named Entity: \n",
            "Apple: ORG (Companies, agencies, institutions, etc.)\n",
            "U.K.: GPE (Countries, cities, states)\n",
            "$1 billion: MONEY (Monetary values, including unit)\n",
            "Steve Jobs: PERSON (People, including fictional)\n",
            "Apple: ORG (Companies, agencies, institutions, etc.)\n",
            "1976: DATE (Absolute or relative dates or periods)\n"
          ]
        }
      ]
    },
    {
      "cell_type": "markdown",
      "source": [
        "## 3. Sentiment Analysis with TextBlob"
      ],
      "metadata": {
        "id": "_0qF9KzM9Yya"
      }
    },
    {
      "cell_type": "code",
      "source": [
        "from textblob import TextBlob\n",
        "\n",
        "# Sample text\n",
        "text = \"I absolutely love this product! It's fantastic and works like a charm.\"\n",
        "\n",
        "#Create a TextBlob object\n",
        "blob = TextBlob(text)\n",
        "\n",
        "# Perform Sentiment Analysis\n",
        "sentiment = blob.sentiment\n",
        "\n",
        "# Output sentiment polarity and subjectivity\n",
        "print(f\"Polarity: {sentiment.polarity}\")\n",
        "print(f\"Subjectivity: {sentiment.subjectivity}\")\n"
      ],
      "metadata": {
        "colab": {
          "base_uri": "https://localhost:8080/"
        },
        "id": "nqCbfQ2E9d3k",
        "outputId": "c6c74ec0-70e2-4325-9310-2b55e4084fcc"
      },
      "execution_count": null,
      "outputs": [
        {
          "output_type": "stream",
          "name": "stdout",
          "text": [
            "Polarity: 0.5125\n",
            "Subjectivity: 0.75\n"
          ]
        }
      ]
    },
    {
      "cell_type": "markdown",
      "source": [
        "Here polarity is the positivity(+1), Neutral (0) negativity (-1) of the text\n",
        "\n",
        "Subjectivity: 0(objective) to 1 (subjective) indicating the text is based on fact or personal opinion\n",
        "\n",
        "\n",
        "In this case, `the polarity score of 0.5125 suggests that the text is moderately positive but not overwhelmingly so`. The language conveys a `generally favorable tone`, though it may not be excessively enthusiastic or optimistic.\n",
        "\n",
        "With a `subjectivity score of 0.75`, the `text likely contains a strong personal bias, subjective expressions, or opinions, rather than being purely based on facts or objective analysis`.\n",
        "\n",
        "This code shows that the sample text is highly positive with a significant degree of subjectivity. TextBlob is simple yet effective for basic sentiment analysis tasks."
      ],
      "metadata": {
        "id": "bd30QwbW_3ul"
      }
    },
    {
      "cell_type": "markdown",
      "source": [
        "## 4. Topic Modeling and Document Clustering\n",
        "\n",
        "Here is Python example for `Topic Modeling and Document Clustering` using the `Genism library` and `Latent Dirichlet Allocation(LDA)`.\n",
        "\n",
        "* `Topic Modeling` is a method used to identify uderlying themes or topics within a collection of documents\n",
        "\n",
        "* `document clustering` focuses on grouping documents that share similar content or themes\n",
        "\n",
        "Steps:\n",
        "\n",
        "1. `Preprocessing:` Tokenization, lowercasing and removal of stopwords.\n",
        "2. `Dictionary and Document-Term Matrix:` Created using Genism for converting text data into numerical form\n",
        "3. `LDA Model:` A Latent Dirichlet Allocation model is trained with 2 topics.\n",
        "4. `Document Clustering:` Document similarity is demonstrated using `cosine similarity` between two documents.\n",
        "\n"
      ],
      "metadata": {
        "id": "qLav4SFzApzk"
      }
    },
    {
      "cell_type": "code",
      "source": [
        "import gensim\n",
        "import nltk\n",
        "from gensim import corpora\n",
        "from gensim.models import LdaModel\n",
        "from nltk.corpus import stopwords\n",
        "from nltk.tokenize import word_tokenize\n",
        "\n",
        "nltk.download('punkt')\n",
        "nltk.download('stopwords')"
      ],
      "metadata": {
        "colab": {
          "base_uri": "https://localhost:8080/"
        },
        "id": "V0x8gzjwAENl",
        "outputId": "65b61c56-f35f-42f5-b1ee-514ba2cd7afd"
      },
      "execution_count": null,
      "outputs": [
        {
          "output_type": "stream",
          "name": "stderr",
          "text": [
            "[nltk_data] Downloading package punkt to /root/nltk_data...\n",
            "[nltk_data]   Package punkt is already up-to-date!\n",
            "[nltk_data] Downloading package stopwords to /root/nltk_data...\n",
            "[nltk_data]   Package stopwords is already up-to-date!\n"
          ]
        },
        {
          "output_type": "execute_result",
          "data": {
            "text/plain": [
              "True"
            ]
          },
          "metadata": {},
          "execution_count": 14
        }
      ]
    },
    {
      "cell_type": "code",
      "source": [
        "documents = [\n",
        "    \"Artificial intelligence is transforming the technology industry.\",\n",
        "    \"Machine learning and AI are shaping the future of automation.\",\n",
        "    \"Deep learning algorithms are a subset of machine learning.\",\n",
        "    \"Quantum computing will revolutionize industries like AI.\",\n",
        "    \"Healthcare is benefiting from AI and machine learning advances.\",\n",
        "]"
      ],
      "metadata": {
        "id": "7PRYYq3MC0ZG"
      },
      "execution_count": null,
      "outputs": []
    },
    {
      "cell_type": "code",
      "source": [
        "def preprocess(doc):\n",
        "  stop_words = set(stopwords.words('english'))\n",
        "  tokens = word_tokenize(doc.lower())\n",
        "  return [word for word in tokens if word.isalpha() and word not in stop_words]"
      ],
      "metadata": {
        "id": "ykv4gc8lC4M7"
      },
      "execution_count": null,
      "outputs": []
    },
    {
      "cell_type": "code",
      "source": [
        "processed_docs = [preprocess(doc) for doc in documents]\n",
        "processed_docs"
      ],
      "metadata": {
        "colab": {
          "base_uri": "https://localhost:8080/"
        },
        "id": "Cj7dJeMfDnRA",
        "outputId": "0c582995-989f-42d1-a08e-5636997c3841"
      },
      "execution_count": null,
      "outputs": [
        {
          "output_type": "execute_result",
          "data": {
            "text/plain": [
              "[['artificial', 'intelligence', 'transforming', 'technology', 'industry'],\n",
              " ['machine', 'learning', 'ai', 'shaping', 'future', 'automation'],\n",
              " ['deep', 'learning', 'algorithms', 'subset', 'machine', 'learning'],\n",
              " ['quantum', 'computing', 'revolutionize', 'industries', 'like', 'ai'],\n",
              " ['healthcare', 'benefiting', 'ai', 'machine', 'learning', 'advances']]"
            ]
          },
          "metadata": {},
          "execution_count": 18
        }
      ]
    },
    {
      "cell_type": "code",
      "source": [
        "# Create a dictionary and document-term matrix\n",
        "dictionary = corpora.Dictionary(processed_docs)\n",
        "doc_term_matrix = [dictionary.doc2bow(doc) for doc in processed_docs]\n",
        "dictionary, doc_term_matrix"
      ],
      "metadata": {
        "colab": {
          "base_uri": "https://localhost:8080/"
        },
        "id": "60bFxwXHDqyb",
        "outputId": "f78fcec7-891f-401e-d499-e4aa4260cdf0"
      },
      "execution_count": null,
      "outputs": [
        {
          "output_type": "execute_result",
          "data": {
            "text/plain": [
              "(<gensim.corpora.dictionary.Dictionary at 0x7ca16f22df90>,\n",
              " [[(0, 1), (1, 1), (2, 1), (3, 1), (4, 1)],\n",
              "  [(5, 1), (6, 1), (7, 1), (8, 1), (9, 1), (10, 1)],\n",
              "  [(8, 2), (9, 1), (11, 1), (12, 1), (13, 1)],\n",
              "  [(5, 1), (14, 1), (15, 1), (16, 1), (17, 1), (18, 1)],\n",
              "  [(5, 1), (8, 1), (9, 1), (19, 1), (20, 1), (21, 1)]])"
            ]
          },
          "metadata": {},
          "execution_count": 20
        }
      ]
    },
    {
      "cell_type": "code",
      "source": [
        "# train LDA model (specifying 2 topics)\n",
        "lda_model = LdaModel(doc_term_matrix, num_topics=2, id2word=dictionary, passes=15)"
      ],
      "metadata": {
        "id": "kT2nxWxvEKfE"
      },
      "execution_count": null,
      "outputs": []
    },
    {
      "cell_type": "code",
      "source": [
        "# Print the topics with associated words\n",
        "print(\"Topics discovered by LDA:\")\n",
        "topics = lda_model.print_topics(num_words=5)\n",
        "for topic in topics:\n",
        "    print(topic)"
      ],
      "metadata": {
        "colab": {
          "base_uri": "https://localhost:8080/"
        },
        "id": "o4F8lef8Ec0R",
        "outputId": "f025f0df-1966-44c0-a114-cc45b78d1a04"
      },
      "execution_count": null,
      "outputs": [
        {
          "output_type": "stream",
          "name": "stdout",
          "text": [
            "Topics discovered by LDA:\n",
            "(0, '0.128*\"learning\" + 0.091*\"machine\" + 0.053*\"technology\" + 0.053*\"industry\" + 0.053*\"transforming\"')\n",
            "(1, '0.113*\"ai\" + 0.065*\"like\" + 0.065*\"revolutionize\" + 0.065*\"quantum\" + 0.065*\"computing\"')\n"
          ]
        }
      ]
    },
    {
      "cell_type": "code",
      "source": [
        "# Document similarity (clustering example)\n",
        "doc1_bow = dictionary.doc2bow(preprocess(\"AI and machine learning are advancing rapidly\"))\n",
        "doc2_bow = dictionary.doc2bow(preprocess(\"Healthcare is benefiting from AI advances\"))"
      ],
      "metadata": {
        "id": "ZQpfWZldEjZq"
      },
      "execution_count": null,
      "outputs": []
    },
    {
      "cell_type": "code",
      "source": [
        "similarity = gensim.matutils.cossim(doc1_bow, doc2_bow)\n",
        "print(\"\\nDocument Similarity (cosine):\", similarity)"
      ],
      "metadata": {
        "colab": {
          "base_uri": "https://localhost:8080/"
        },
        "id": "9tfYnzHIE0MJ",
        "outputId": "7f2b7f51-cb64-4a39-9fe3-d594895478d3"
      },
      "execution_count": null,
      "outputs": [
        {
          "output_type": "stream",
          "name": "stdout",
          "text": [
            "\n",
            "Document Similarity (cosine): 0.2886751345948129\n"
          ]
        }
      ]
    },
    {
      "cell_type": "markdown",
      "source": [
        "In this example, the Gensim library is used for both topic modeling and document clustering.\n",
        "\n",
        "We begin by preparing a list of sample documents, then create a dictionary and a document-term matrix from them. After that,\n",
        "\n",
        "a Latent Dirichlet Allocation (LDA) model is trained, specifying how many topics we aim to identify. The print_topics method is used to display the discovered topics along with their associated words.\n",
        "\n",
        "\n",
        "Additionally, document similarity is demonstrated by converting two documents into `bag-of-words vectors` and `calculating their cosine similarity using gensim.matutils.cossim`"
      ],
      "metadata": {
        "id": "NZQ8eDIZFGVT"
      }
    },
    {
      "cell_type": "markdown",
      "source": [
        "The coefficient values (e.g., 0.070, 0.091, etc.) in the topics discovered by LDA represent `the probability or weight of each word in the corresponding topic`. These values indicate `how relevant each word is to a given topic`. For example, in Topic 0, \"artificial\", \"transforming\", \"industry\", \"intelligence\" and \"technology\" are equally important as they have equal weights i.e., 0.070. In Topic 1, \"learning\" has a weight of 0.127, which makes it even more central to this topic.\n",
        "\n",
        "A cosine similarity score of 0.289 (approximately) indicates a moderate to low level of similarity between two documents. This means the documents share some overlap in terms of words or content, but they are more different than similar."
      ],
      "metadata": {
        "id": "kQpiBbFdFQOf"
      }
    },
    {
      "cell_type": "markdown",
      "source": [
        "Remember: `Cosine similarity is a measure of how similar two documents are, based on the angle between their vector representations in a multi-dimensional space`. It ranges from `-1 to 1`, where:\n",
        "\n",
        "(i) 1 indicates that the documents are identical in terms of their direction (completely similar).\n",
        "\n",
        "(ii) 0 means the documents are completely different and share no similarities.\n",
        "\n",
        "(iii) -1 suggests that the documents are opposites in meaning."
      ],
      "metadata": {
        "id": "7Z-5qvlHFQ64"
      }
    },
    {
      "cell_type": "code",
      "source": [],
      "metadata": {
        "id": "fZXRELRRFGKD"
      },
      "execution_count": null,
      "outputs": []
    }
  ]
}